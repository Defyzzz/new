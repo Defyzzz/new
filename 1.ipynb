class Car:
    
    name = 'c200'
    make = 'mercedes'
    model = 2008
    car_count = 0
    
    def start(self, name, make, model):
        print('Заводим двиатель')
        self.name = name
        self.make = make
        self.model = model
        Car.car_count += 1
        
    def stop(self):
        print("Отключаем двигатель")
